{
  "nbformat": 4,
  "nbformat_minor": 0,
  "metadata": {
    "colab": {
      "name": "test1",
      "provenance": [],
      "collapsed_sections": []
    },
    "kernelspec": {
      "name": "python3",
      "display_name": "Python 3"
    },
    "language_info": {
      "name": "python"
    }
  },
  "cells": [
    {
      "cell_type": "code",
      "metadata": {
        "id": "NkmpRDDbNXjV"
      },
      "source": [
        "import numpy as np\n",
        "import tensorflow as tf\n",
        "from tensorflow import keras"
      ],
      "execution_count": 7,
      "outputs": []
    },
    {
      "cell_type": "code",
      "metadata": {
        "id": "cdwGG_XfNnaz"
      },
      "source": [
        "batch_size = 64  # Batch size for training.\n",
        "epochs = 100  # Number of epochs to train for.\n",
        "latent_dim = 256  # Latent dimensionality of the encoding space.\n",
        "num_samples = 10000  # Number of samples to train on.\n"
      ],
      "execution_count": 8,
      "outputs": []
    },
    {
      "cell_type": "code",
      "metadata": {
        "id": "amPxT_XFOPwR"
      },
      "source": [
        "data_path=\"hi.romanized.rejoined.aligned.cased_nopunct.tsv\""
      ],
      "execution_count": 9,
      "outputs": []
    },
    {
      "cell_type": "code",
      "metadata": {
        "colab": {
          "base_uri": "https://localhost:8080/"
        },
        "id": "p4xP3FgvY3bW",
        "outputId": "c706c7ee-8e64-4f56-da67-9c600abb25c2"
      },
      "source": [
        "# Vectorize the data.\n",
        "input_texts = []\n",
        "target_texts = []\n",
        "input_characters = set()\n",
        "target_characters = set()\n",
        "with open(data_path, \"r\", encoding=\"utf-8\") as f:\n",
        "    lines = f.read().split(\"\\n\")\n",
        "for line in lines[: min(num_samples, len(lines) - 1)]:\n",
        "    input_text, target_text = line.split(\"\\t\")\n",
        "    # We use \"tab\" as the \"start sequence\" character\n",
        "    # for the targets, and \"\\n\" as \"end sequence\" character.\n",
        "    target_text = \"\\t\" + target_text + \"\\n\"\n",
        "    input_texts.append(input_text)\n",
        "    target_texts.append(target_text)\n",
        "    for char in input_text:\n",
        "        if char not in input_characters:\n",
        "            input_characters.add(char)\n",
        "    for char in target_text:\n",
        "        if char not in target_characters:\n",
        "            target_characters.add(char)\n",
        "\n",
        "input_characters = sorted(list(input_characters))\n",
        "target_characters = sorted(list(target_characters))\n",
        "num_encoder_tokens = len(input_characters)\n",
        "num_decoder_tokens = len(target_characters)\n",
        "max_encoder_seq_length = max([len(txt) for txt in input_texts])\n",
        "max_decoder_seq_length = max([len(txt) for txt in target_texts])\n",
        "\n",
        "print(\"Number of samples:\", len(input_texts))\n",
        "print(\"Number of unique input tokens:\", num_encoder_tokens)\n",
        "print(\"Number of unique output tokens:\", num_decoder_tokens)\n",
        "print(\"Max sequence length for inputs:\", max_encoder_seq_length)\n",
        "print(\"Max sequence length for outputs:\", max_decoder_seq_length)\n",
        "\n",
        "input_token_index = dict([(char, i) for i, char in enumerate(input_characters)])\n",
        "target_token_index = dict([(char, i) for i, char in enumerate(target_characters)])\n",
        "\n",
        "encoder_input_data = np.zeros(\n",
        "    (len(input_texts), max_encoder_seq_length, num_encoder_tokens), dtype=\"float32\"\n",
        ")\n",
        "decoder_input_data = np.zeros(\n",
        "    (len(input_texts), max_decoder_seq_length, num_decoder_tokens), dtype=\"float32\"\n",
        ")\n",
        "decoder_target_data = np.zeros(\n",
        "    (len(input_texts), max_decoder_seq_length, num_decoder_tokens), dtype=\"float32\"\n",
        ")\n",
        "\n",
        "for i, (input_text, target_text) in enumerate(zip(input_texts, target_texts)):\n",
        "    for t, char in enumerate(input_text):\n",
        "        encoder_input_data[i, t, input_token_index[char]] = 1.0\n",
        "    encoder_input_data[i, t + 1 :, input_token_index[\" \"]] = 1.0\n",
        "    for t, char in enumerate(target_text):\n",
        "        # decoder_target_data is ahead of decoder_input_data by one timestep\n",
        "        decoder_input_data[i, t, target_token_index[char]] = 1.0\n",
        "        if t > 0:\n",
        "            # decoder_target_data will be ahead by one timestep\n",
        "            # and will not include the start character.\n",
        "            decoder_target_data[i, t - 1, target_token_index[char]] = 1.0\n",
        "    decoder_input_data[i, t + 1 :, target_token_index[\" \"]] = 1.0\n",
        "    decoder_target_data[i, t:, target_token_index[\" \"]] = 1.0"
      ],
      "execution_count": 11,
      "outputs": [
        {
          "output_type": "stream",
          "text": [
            "Number of samples: 10000\n",
            "Number of unique input tokens: 141\n",
            "Number of unique output tokens: 50\n",
            "Max sequence length for inputs: 23\n",
            "Max sequence length for outputs: 23\n"
          ],
          "name": "stdout"
        }
      ]
    },
    {
      "cell_type": "code",
      "metadata": {
        "id": "3zelimsDY8-P"
      },
      "source": [
        "# Define an input sequence and process it.\n",
        "encoder_inputs = keras.Input(shape=(None, num_encoder_tokens))\n",
        "encoder = keras.layers.LSTM(latent_dim, return_state=True)\n",
        "encoder_outputs, state_h, state_c = encoder(encoder_inputs)\n",
        "\n",
        "# We discard `encoder_outputs` and only keep the states.\n",
        "encoder_states = [state_h, state_c]\n",
        "\n",
        "# Set up the decoder, using `encoder_states` as initial state.\n",
        "decoder_inputs = keras.Input(shape=(None, num_decoder_tokens))\n",
        "\n",
        "# We set up our decoder to return full output sequences,\n",
        "# and to return internal states as well. We don't use the\n",
        "# return states in the training model, but we will use them in inference.\n",
        "decoder_lstm = keras.layers.LSTM(latent_dim, return_sequences=True, return_state=True)\n",
        "decoder_outputs, _, _ = decoder_lstm(decoder_inputs, initial_state=encoder_states)\n",
        "decoder_dense = keras.layers.Dense(num_decoder_tokens, activation=\"softmax\")\n",
        "decoder_outputs = decoder_dense(decoder_outputs)\n",
        "\n",
        "# Define the model that will turn\n",
        "# `encoder_input_data` & `decoder_input_data` into `decoder_target_data`\n",
        "model = keras.Model([encoder_inputs, decoder_inputs], decoder_outputs)\n"
      ],
      "execution_count": 12,
      "outputs": []
    },
    {
      "cell_type": "code",
      "metadata": {
        "colab": {
          "base_uri": "https://localhost:8080/"
        },
        "id": "AvpEXVgjZQVn",
        "outputId": "b46bfde2-bb8d-45f1-9345-426e786f2bc2"
      },
      "source": [
        "model.compile(\n",
        "    optimizer=\"rmsprop\", loss=\"categorical_crossentropy\", metrics=[\"accuracy\"]\n",
        ")\n",
        "model.fit(\n",
        "    [encoder_input_data, decoder_input_data],\n",
        "    decoder_target_data,\n",
        "    batch_size=batch_size,\n",
        "    epochs=10,\n",
        "    validation_split=0.2,\n",
        ")\n",
        "# Save model\n",
        "model.save(\"s2s\")\n"
      ],
      "execution_count": 14,
      "outputs": [
        {
          "output_type": "stream",
          "text": [
            "Epoch 1/10\n",
            "125/125 [==============================] - 33s 244ms/step - loss: 0.2303 - accuracy: 0.9340 - val_loss: 0.2326 - val_accuracy: 0.9337\n",
            "Epoch 2/10\n",
            "125/125 [==============================] - 30s 240ms/step - loss: 0.1997 - accuracy: 0.9427 - val_loss: 0.2115 - val_accuracy: 0.9407\n",
            "Epoch 3/10\n",
            "125/125 [==============================] - 30s 239ms/step - loss: 0.1892 - accuracy: 0.9457 - val_loss: 0.2044 - val_accuracy: 0.9432\n",
            "Epoch 4/10\n",
            "125/125 [==============================] - 30s 239ms/step - loss: 0.1685 - accuracy: 0.9518 - val_loss: 0.1877 - val_accuracy: 0.9473\n",
            "Epoch 5/10\n",
            "125/125 [==============================] - 30s 239ms/step - loss: 0.1492 - accuracy: 0.9580 - val_loss: 0.1892 - val_accuracy: 0.9477\n",
            "Epoch 6/10\n",
            "125/125 [==============================] - 30s 238ms/step - loss: 0.1365 - accuracy: 0.9611 - val_loss: 0.1740 - val_accuracy: 0.9523\n",
            "Epoch 7/10\n",
            "125/125 [==============================] - 30s 242ms/step - loss: 0.1238 - accuracy: 0.9643 - val_loss: 0.1675 - val_accuracy: 0.9542\n",
            "Epoch 8/10\n",
            "125/125 [==============================] - 30s 240ms/step - loss: 0.1139 - accuracy: 0.9673 - val_loss: 0.1746 - val_accuracy: 0.9538\n",
            "Epoch 9/10\n",
            "125/125 [==============================] - 30s 238ms/step - loss: 0.1012 - accuracy: 0.9710 - val_loss: 0.1666 - val_accuracy: 0.9561\n",
            "Epoch 10/10\n",
            "125/125 [==============================] - 30s 238ms/step - loss: 0.0940 - accuracy: 0.9728 - val_loss: 0.1566 - val_accuracy: 0.9593\n"
          ],
          "name": "stdout"
        },
        {
          "output_type": "stream",
          "text": [
            "WARNING:absl:Found untraced functions such as lstm_cell_layer_call_fn, lstm_cell_layer_call_and_return_conditional_losses, lstm_cell_1_layer_call_fn, lstm_cell_1_layer_call_and_return_conditional_losses, lstm_cell_layer_call_fn while saving (showing 5 of 10). These functions will not be directly callable after loading.\n",
            "WARNING:absl:Found untraced functions such as lstm_cell_layer_call_fn, lstm_cell_layer_call_and_return_conditional_losses, lstm_cell_1_layer_call_fn, lstm_cell_1_layer_call_and_return_conditional_losses, lstm_cell_layer_call_fn while saving (showing 5 of 10). These functions will not be directly callable after loading.\n"
          ],
          "name": "stderr"
        },
        {
          "output_type": "stream",
          "text": [
            "INFO:tensorflow:Assets written to: s2s/assets\n"
          ],
          "name": "stdout"
        },
        {
          "output_type": "stream",
          "text": [
            "INFO:tensorflow:Assets written to: s2s/assets\n"
          ],
          "name": "stderr"
        }
      ]
    },
    {
      "cell_type": "code",
      "metadata": {
        "id": "brp037czZTQP"
      },
      "source": [
        "# Define sampling models\n",
        "# Restore the model and construct the encoder and decoder.\n",
        "model = keras.models.load_model(\"s2s\")\n",
        "\n",
        "encoder_inputs = model.input[0]  # input_1\n",
        "encoder_outputs, state_h_enc, state_c_enc = model.layers[2].output  # lstm_1\n",
        "encoder_states = [state_h_enc, state_c_enc]\n",
        "encoder_model = keras.Model(encoder_inputs, encoder_states)\n",
        "\n",
        "decoder_inputs = model.input[1]  # input_2\n",
        "decoder_state_input_h = keras.Input(shape=(latent_dim,), name=\"input_3\")\n",
        "decoder_state_input_c = keras.Input(shape=(latent_dim,), name=\"input_4\")\n",
        "decoder_states_inputs = [decoder_state_input_h, decoder_state_input_c]\n",
        "decoder_lstm = model.layers[3]\n",
        "decoder_outputs, state_h_dec, state_c_dec = decoder_lstm(\n",
        "    decoder_inputs, initial_state=decoder_states_inputs\n",
        ")\n",
        "decoder_states = [state_h_dec, state_c_dec]\n",
        "decoder_dense = model.layers[4]\n",
        "decoder_outputs = decoder_dense(decoder_outputs)\n",
        "decoder_model = keras.Model(\n",
        "    [decoder_inputs] + decoder_states_inputs, [decoder_outputs] + decoder_states\n",
        ")\n",
        "\n",
        "# Reverse-lookup token index to decode sequences back to\n",
        "# something readable.\n",
        "reverse_input_char_index = dict((i, char) for char, i in input_token_index.items())\n",
        "reverse_target_char_index = dict((i, char) for char, i in target_token_index.items())\n",
        "\n",
        "\n",
        "def decode_sequence(input_seq):\n",
        "    # Encode the input as state vectors.\n",
        "    states_value = encoder_model.predict(input_seq)\n",
        "\n",
        "    # Generate empty target sequence of length 1.\n",
        "    target_seq = np.zeros((1, 1, num_decoder_tokens))\n",
        "    # Populate the first character of target sequence with the start character.\n",
        "    target_seq[0, 0, target_token_index[\"\\t\"]] = 1.0\n",
        "\n",
        "    # Sampling loop for a batch of sequences\n",
        "    # (to simplify, here we assume a batch of size 1).\n",
        "    stop_condition = False\n",
        "    decoded_sentence = \"\"\n",
        "    while not stop_condition:\n",
        "        output_tokens, h, c = decoder_model.predict([target_seq] + states_value)\n",
        "\n",
        "        # Sample a token\n",
        "        sampled_token_index = np.argmax(output_tokens[0, -1, :])\n",
        "        sampled_char = reverse_target_char_index[sampled_token_index]\n",
        "        decoded_sentence += sampled_char\n",
        "\n",
        "        # Exit condition: either hit max length\n",
        "        # or find stop character.\n",
        "        if sampled_char == \"\\n\" or len(decoded_sentence) > max_decoder_seq_length:\n",
        "            stop_condition = True\n",
        "\n",
        "        # Update the target sequence (of length 1).\n",
        "        target_seq = np.zeros((1, 1, num_decoder_tokens))\n",
        "        target_seq[0, 0, sampled_token_index] = 1.0\n",
        "\n",
        "        # Update states\n",
        "        states_value = [h, c]\n",
        "    return decoded_sentence\n"
      ],
      "execution_count": 15,
      "outputs": []
    },
    {
      "cell_type": "code",
      "metadata": {
        "colab": {
          "base_uri": "https://localhost:8080/"
        },
        "id": "DQBFGi9QcEZk",
        "outputId": "a8326ded-7392-4fe9-f6d8-6fe9a4f36442"
      },
      "source": [
        "for seq_index in range(30):\n",
        "    # Take one sequence (part of the training set)\n",
        "    # for trying out decoding.\n",
        "    input_seq = encoder_input_data[seq_index : seq_index + 1]\n",
        "    decoded_sentence = decode_sequence(input_seq)\n",
        "    print(\"-\")\n",
        "    print(\"Input sentence:\", input_texts[seq_index])\n",
        "    print(\"Decoded sentence:\", decoded_sentence)\n"
      ],
      "execution_count": 17,
      "outputs": [
        {
          "output_type": "stream",
          "text": [
            "-\n",
            "Input sentence: जबकि\n",
            "Decoded sentence: jakki\n",
            "\n",
            "-\n",
            "Input sentence: यह\n",
            "Decoded sentence: yah\n",
            "\n",
            "-\n",
            "Input sentence: जैनों\n",
            "Decoded sentence: janamon\n",
            "\n",
            "-\n",
            "Input sentence: से\n",
            "Decoded sentence: se\n",
            "\n",
            "-\n",
            "Input sentence: कम\n",
            "Decoded sentence: kam\n",
            "\n",
            "-\n",
            "Input sentence: है\n",
            "Decoded sentence: hai\n",
            "\n",
            "-\n",
            "Input sentence: </s>\n",
            "Decoded sentence: </s>\n",
            "\n",
            "-\n",
            "Input sentence: वर्ष\n",
            "Decoded sentence: varsh\n",
            "\n",
            "-\n",
            "Input sentence: 2000\n",
            "Decoded sentence: 2000\n",
            "\n",
            "-\n",
            "Input sentence: में\n",
            "Decoded sentence: men\n",
            "\n",
            "-\n",
            "Input sentence: वेंकटरामन\n",
            "Decoded sentence: ventaron\n",
            "\n",
            "-\n",
            "Input sentence: ने\n",
            "Decoded sentence: ne\n",
            "\n",
            "-\n",
            "Input sentence: प्रयोगशाला\n",
            "Decoded sentence: prayogika\n",
            "\n",
            "-\n",
            "Input sentence: में\n",
            "Decoded sentence: men\n",
            "\n",
            "-\n",
            "Input sentence: राइबोसोम\n",
            "Decoded sentence: robiskay\n",
            "\n",
            "-\n",
            "Input sentence: की\n",
            "Decoded sentence: ki\n",
            "\n",
            "-\n",
            "Input sentence: तीस\n",
            "Decoded sentence: tees\n",
            "\n",
            "-\n",
            "Input sentence: ईकाईयों\n",
            "Decoded sentence: ikaran\n",
            "\n",
            "-\n",
            "Input sentence: का\n",
            "Decoded sentence: ka\n",
            "\n",
            "-\n",
            "Input sentence: पता\n",
            "Decoded sentence: pata\n",
            "\n",
            "-\n",
            "Input sentence: लगाया\n",
            "Decoded sentence: lagata\n",
            "\n",
            "-\n",
            "Input sentence: और\n",
            "Decoded sentence: aur\n",
            "\n",
            "-\n",
            "Input sentence: प्रतिजैविकों\n",
            "Decoded sentence: pratikariyon\n",
            "\n",
            "-\n",
            "Input sentence: के\n",
            "Decoded sentence: ke\n",
            "\n",
            "-\n",
            "Input sentence: साथ\n",
            "Decoded sentence: saath\n",
            "\n",
            "-\n",
            "Input sentence: इनके\n",
            "Decoded sentence: inka\n",
            "\n",
            "-\n",
            "Input sentence: यौगिकों\n",
            "Decoded sentence: yogevikon\n",
            "\n",
            "-\n",
            "Input sentence: पर\n",
            "Decoded sentence: par\n",
            "\n",
            "-\n",
            "Input sentence: भी\n",
            "Decoded sentence: bhi\n",
            "\n",
            "-\n",
            "Input sentence: अनुसंधान\n",
            "Decoded sentence: anusandhan\n",
            "\n"
          ],
          "name": "stdout"
        }
      ]
    },
    {
      "cell_type": "code",
      "metadata": {
        "id": "JW2PMr18cJaM"
      },
      "source": [
        ""
      ],
      "execution_count": null,
      "outputs": []
    }
  ]
}