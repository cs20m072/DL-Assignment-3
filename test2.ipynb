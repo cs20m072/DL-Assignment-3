{
  "nbformat": 4,
  "nbformat_minor": 0,
  "metadata": {
    "colab": {
      "name": "test2",
      "provenance": [],
      "collapsed_sections": []
    },
    "kernelspec": {
      "name": "python3",
      "display_name": "Python 3"
    },
    "language_info": {
      "name": "python"
    }
  },
  "cells": [
    {
      "cell_type": "code",
      "metadata": {
        "id": "NkmpRDDbNXjV"
      },
      "source": [
        "import numpy as np\n",
        "import tensorflow as tf\n",
        "from tensorflow import keras"
      ],
      "execution_count": 1,
      "outputs": []
    },
    {
      "cell_type": "code",
      "metadata": {
        "id": "cdwGG_XfNnaz"
      },
      "source": [
        "batch_size = 64  # Batch size for training.\n",
        "epochs = 20  # Number of epochs to train for.\n",
        "latent_dim = 256  # Latent dimensionality of the encoding space.\n",
        "num_samples = 44204  # Number of samples to train on.\n"
      ],
      "execution_count": 2,
      "outputs": []
    },
    {
      "cell_type": "code",
      "metadata": {
        "id": "amPxT_XFOPwR"
      },
      "source": [
        "data_path=\"/content/drive/MyDrive/Colab Notebooks/hi.translit.sampled.train.tsv\""
      ],
      "execution_count": 3,
      "outputs": []
    },
    {
      "cell_type": "code",
      "metadata": {
        "id": "kKU2idKNzt4i"
      },
      "source": [
        "data_path1=\"hi.romanized.rejoined.aligned.cased_nopunct.tsv\""
      ],
      "execution_count": 14,
      "outputs": []
    },
    {
      "cell_type": "code",
      "metadata": {
        "colab": {
          "base_uri": "https://localhost:8080/"
        },
        "id": "p4xP3FgvY3bW",
        "outputId": "0e8eb61a-a667-40e7-ef9d-35d050945c58"
      },
      "source": [
        "# Vectorize the data.\n",
        "input_texts = []\n",
        "target_texts = []\n",
        "input_characters = set()\n",
        "target_characters = set()\n",
        "with open(data_path, \"r\", encoding=\"utf-8\") as f:\n",
        "    lines = f.read().split(\"\\n\")\n",
        "for line in lines[: min(num_samples, len(lines) - 1)]:\n",
        "    input_text, target_text,_ = line.split(\"\\t\")\n",
        "    # We use \"tab\" as the \"start sequence\" character\n",
        "    # for the targets, and \"\\n\" as \"end sequence\" character.\n",
        "    target_text = \"\\t\" + target_text + \"\\n\"\n",
        "    input_texts.append(input_text)\n",
        "    target_texts.append(target_text)\n",
        "    for char in input_text:\n",
        "        if char not in input_characters:\n",
        "            input_characters.add(char)\n",
        "    for char in target_text:\n",
        "        if char not in target_characters:\n",
        "            target_characters.add(char)\n",
        "\n",
        "input_characters = sorted(list(input_characters))\n",
        "target_characters = sorted(list(target_characters))\n",
        "num_encoder_tokens = len(input_characters)\n",
        "num_decoder_tokens = len(target_characters)\n",
        "max_encoder_seq_length = max([len(txt) for txt in input_texts])\n",
        "max_decoder_seq_length = max([len(txt) for txt in target_texts])\n",
        "\n",
        "print(\"Number of samples:\", len(input_texts))\n",
        "print(\"Number of unique input tokens:\", num_encoder_tokens)\n",
        "print(\"Number of unique output tokens:\", num_decoder_tokens)\n",
        "print(\"Max sequence length for inputs:\", max_encoder_seq_length)\n",
        "print(\"Max sequence length for outputs:\", max_decoder_seq_length)\n",
        "\n",
        "input_token_index = dict([(char, i) for i, char in enumerate(input_characters)])\n",
        "target_token_index = dict([(char, i) for i, char in enumerate(target_characters)])\n",
        "encoder_input_data = np.zeros(\n",
        "    (len(input_texts), max_encoder_seq_length, num_encoder_tokens+1), dtype=\"float32\"\n",
        ")\n",
        "decoder_input_data = np.zeros(\n",
        "    (len(input_texts), max_decoder_seq_length, num_decoder_tokens+1), dtype=\"float32\"\n",
        ")\n",
        "decoder_target_data = np.zeros(\n",
        "    (len(input_texts), max_decoder_seq_length, num_decoder_tokens+1), dtype=\"float32\"\n",
        ")"
      ],
      "execution_count": 4,
      "outputs": [
        {
          "output_type": "stream",
          "text": [
            "Number of samples: 44204\n",
            "Number of unique input tokens: 63\n",
            "Number of unique output tokens: 28\n",
            "Max sequence length for inputs: 19\n",
            "Max sequence length for outputs: 22\n"
          ],
          "name": "stdout"
        }
      ]
    },
    {
      "cell_type": "code",
      "metadata": {
        "id": "1tZVmJXmzDYs"
      },
      "source": [
        "target_token_index[\" \"]=28\n",
        "input_token_index[\" \"]=63"
      ],
      "execution_count": 5,
      "outputs": []
    },
    {
      "cell_type": "code",
      "metadata": {
        "colab": {
          "base_uri": "https://localhost:8080/"
        },
        "id": "aXKcM6nm6bdU",
        "outputId": "9782cee1-ba72-4f31-af8a-79e4ce18d526"
      },
      "source": [
        "input_token_index"
      ],
      "execution_count": 13,
      "outputs": [
        {
          "output_type": "execute_result",
          "data": {
            "text/plain": [
              "{' ': 63,\n",
              " 'ँ': 0,\n",
              " 'ं': 1,\n",
              " 'ः': 2,\n",
              " 'अ': 3,\n",
              " 'आ': 4,\n",
              " 'इ': 5,\n",
              " 'ई': 6,\n",
              " 'उ': 7,\n",
              " 'ऊ': 8,\n",
              " 'ऋ': 9,\n",
              " 'ए': 10,\n",
              " 'ऐ': 11,\n",
              " 'ऑ': 12,\n",
              " 'ओ': 13,\n",
              " 'औ': 14,\n",
              " 'क': 15,\n",
              " 'ख': 16,\n",
              " 'ग': 17,\n",
              " 'घ': 18,\n",
              " 'ङ': 19,\n",
              " 'च': 20,\n",
              " 'छ': 21,\n",
              " 'ज': 22,\n",
              " 'झ': 23,\n",
              " 'ञ': 24,\n",
              " 'ट': 25,\n",
              " 'ठ': 26,\n",
              " 'ड': 27,\n",
              " 'ढ': 28,\n",
              " 'ण': 29,\n",
              " 'त': 30,\n",
              " 'थ': 31,\n",
              " 'द': 32,\n",
              " 'ध': 33,\n",
              " 'न': 34,\n",
              " 'प': 35,\n",
              " 'फ': 36,\n",
              " 'ब': 37,\n",
              " 'भ': 38,\n",
              " 'म': 39,\n",
              " 'य': 40,\n",
              " 'र': 41,\n",
              " 'ल': 42,\n",
              " 'व': 43,\n",
              " 'श': 44,\n",
              " 'ष': 45,\n",
              " 'स': 46,\n",
              " 'ह': 47,\n",
              " '़': 48,\n",
              " 'ा': 49,\n",
              " 'ि': 50,\n",
              " 'ी': 51,\n",
              " 'ु': 52,\n",
              " 'ू': 53,\n",
              " 'ृ': 54,\n",
              " 'ॅ': 55,\n",
              " 'े': 56,\n",
              " 'ै': 57,\n",
              " 'ॉ': 58,\n",
              " 'ो': 59,\n",
              " 'ौ': 60,\n",
              " '्': 61,\n",
              " 'ॐ': 62}"
            ]
          },
          "metadata": {
            "tags": []
          },
          "execution_count": 13
        }
      ]
    },
    {
      "cell_type": "code",
      "metadata": {
        "colab": {
          "base_uri": "https://localhost:8080/"
        },
        "id": "u4CUnjhU1kD9",
        "outputId": "addfe5a0-77d0-49cf-d9b5-a8881ef883c4"
      },
      "source": [
        "np.shape(decoder_input_data)"
      ],
      "execution_count": 60,
      "outputs": [
        {
          "output_type": "execute_result",
          "data": {
            "text/plain": [
              "(44204, 22, 29)"
            ]
          },
          "metadata": {
            "tags": []
          },
          "execution_count": 60
        }
      ]
    },
    {
      "cell_type": "code",
      "metadata": {
        "colab": {
          "base_uri": "https://localhost:8080/"
        },
        "id": "zePmOvfn5_qn",
        "outputId": "49c4c2e0-087d-4e7f-ca14-672147853256"
      },
      "source": [
        "np.shape(decoder_target_data)"
      ],
      "execution_count": 61,
      "outputs": [
        {
          "output_type": "execute_result",
          "data": {
            "text/plain": [
              "(44204, 22, 29)"
            ]
          },
          "metadata": {
            "tags": []
          },
          "execution_count": 61
        }
      ]
    },
    {
      "cell_type": "code",
      "metadata": {
        "id": "LGdmWncIy8XA"
      },
      "source": [
        "for i, (input_text, target_text) in enumerate(zip(input_texts, target_texts)):\n",
        "    for t, char in enumerate(input_text):\n",
        "        encoder_input_data[i, t, input_token_index[char]] = 1.0\n",
        "    encoder_input_data[i, t + 1 :, input_token_index[\" \"]] = 1.0\n",
        "    for t, char in enumerate(target_text):\n",
        "        # decoder_target_data is ahead of decoder_input_data by one timestep\n",
        "        decoder_input_data[i, t, target_token_index[char]] = 1.0\n",
        "        if t > 0:\n",
        "            # decoder_target_data will be ahead by one timestep\n",
        "            # and will not include the start character.\n",
        "            decoder_target_data[i, t - 1, target_token_index[char]] = 1.0\n",
        "    decoder_input_data[i, t + 1 :, target_token_index[\" \"]] = 1.0\n",
        "    decoder_target_data[i, t:, target_token_index[\" \"]] = 1.0"
      ],
      "execution_count": 6,
      "outputs": []
    },
    {
      "cell_type": "code",
      "metadata": {
        "colab": {
          "base_uri": "https://localhost:8080/"
        },
        "id": "TWN1NrIEydPr",
        "outputId": "4982ebfa-0346-41e1-91fa-59ed350e3c66"
      },
      "source": [
        ""
      ],
      "execution_count": 12,
      "outputs": [
        {
          "output_type": "execute_result",
          "data": {
            "text/plain": [
              "array([[[0., 0., 1., ..., 0., 0., 0.],\n",
              "        [0., 0., 0., ..., 0., 0., 0.],\n",
              "        [0., 1., 0., ..., 0., 0., 0.],\n",
              "        ...,\n",
              "        [0., 0., 0., ..., 0., 0., 1.],\n",
              "        [0., 0., 0., ..., 0., 0., 1.],\n",
              "        [0., 0., 0., ..., 0., 0., 1.]],\n",
              "\n",
              "       [[0., 0., 1., ..., 0., 0., 0.],\n",
              "        [0., 0., 0., ..., 0., 0., 0.],\n",
              "        [0., 0., 0., ..., 0., 0., 0.],\n",
              "        ...,\n",
              "        [0., 0., 0., ..., 0., 0., 1.],\n",
              "        [0., 0., 0., ..., 0., 0., 1.],\n",
              "        [0., 0., 0., ..., 0., 0., 1.]],\n",
              "\n",
              "       [[0., 0., 0., ..., 0., 0., 0.],\n",
              "        [0., 0., 0., ..., 0., 0., 0.],\n",
              "        [0., 0., 0., ..., 0., 0., 0.],\n",
              "        ...,\n",
              "        [0., 0., 0., ..., 0., 0., 1.],\n",
              "        [0., 0., 0., ..., 0., 0., 1.],\n",
              "        [0., 0., 0., ..., 0., 0., 1.]],\n",
              "\n",
              "       ...,\n",
              "\n",
              "       [[0., 0., 0., ..., 0., 0., 0.],\n",
              "        [0., 0., 0., ..., 1., 0., 0.],\n",
              "        [0., 0., 0., ..., 0., 0., 0.],\n",
              "        ...,\n",
              "        [0., 0., 0., ..., 0., 0., 1.],\n",
              "        [0., 0., 0., ..., 0., 0., 1.],\n",
              "        [0., 0., 0., ..., 0., 0., 1.]],\n",
              "\n",
              "       [[0., 0., 0., ..., 0., 0., 0.],\n",
              "        [0., 0., 0., ..., 0., 0., 0.],\n",
              "        [0., 0., 1., ..., 0., 0., 0.],\n",
              "        ...,\n",
              "        [0., 0., 0., ..., 0., 0., 1.],\n",
              "        [0., 0., 0., ..., 0., 0., 1.],\n",
              "        [0., 0., 0., ..., 0., 0., 1.]],\n",
              "\n",
              "       [[0., 0., 0., ..., 0., 0., 0.],\n",
              "        [0., 0., 0., ..., 0., 0., 0.],\n",
              "        [0., 1., 0., ..., 0., 0., 0.],\n",
              "        ...,\n",
              "        [0., 0., 0., ..., 0., 0., 1.],\n",
              "        [0., 0., 0., ..., 0., 0., 1.],\n",
              "        [0., 0., 0., ..., 0., 0., 1.]]], dtype=float32)"
            ]
          },
          "metadata": {
            "tags": []
          },
          "execution_count": 12
        }
      ]
    },
    {
      "cell_type": "code",
      "metadata": {
        "id": "3zelimsDY8-P"
      },
      "source": [
        "# Define an input sequence and process it.\n",
        "encoder_inputs = keras.Input(shape=(None, num_encoder_tokens+1))\n",
        "encoder = keras.layers.LSTM(latent_dim, return_state=True)\n",
        "encoder_outputs, state_h, state_c = encoder(encoder_inputs)\n",
        "\n",
        "# We discard `encoder_outputs` and only keep the states.\n",
        "encoder_states = [state_h, state_c]\n",
        "\n",
        "# Set up the decoder, using `encoder_states` as initial state.\n",
        "decoder_inputs = keras.Input(shape=(None, num_decoder_tokens+1))\n",
        "\n",
        "# We set up our decoder to return full output sequences,\n",
        "# and to return internal states as well. We don't use the\n",
        "# return states in the training model, but we will use them in inference.\n",
        "decoder_lstm = keras.layers.LSTM(latent_dim, return_sequences=True, return_state=True)\n",
        "decoder_outputs, _, _ = decoder_lstm(decoder_inputs, initial_state=encoder_states)\n",
        "decoder_dense = keras.layers.Dense(num_decoder_tokens+1, activation=\"softmax\")\n",
        "decoder_outputs = decoder_dense(decoder_outputs)\n",
        "\n",
        "# Define the model that will turn\n",
        "# `encoder_input_data` & `decoder_input_data` into `decoder_target_data`\n",
        "model = keras.Model([encoder_inputs, decoder_inputs], decoder_outputs)\n"
      ],
      "execution_count": 21,
      "outputs": []
    },
    {
      "cell_type": "code",
      "metadata": {
        "colab": {
          "base_uri": "https://localhost:8080/"
        },
        "id": "AvpEXVgjZQVn",
        "outputId": "9613d64f-6c1a-477a-cdca-954defd4506f"
      },
      "source": [
        "model.compile(\n",
        "    optimizer=\"rmsprop\", loss=\"categorical_crossentropy\", metrics=[\"accuracy\"]\n",
        ")\n",
        "model.fit(\n",
        "    [encoder_input_data, decoder_input_data],\n",
        "    decoder_target_data,\n",
        "    batch_size=batch_size,\n",
        "    epochs=20,\n",
        "    validation_split=0.2,\n",
        ")\n",
        "# Save model\n",
        "model.save(\"s2s1\")\n"
      ],
      "execution_count": 22,
      "outputs": [
        {
          "output_type": "stream",
          "text": [
            "Epoch 1/20\n",
            "553/553 [==============================] - 127s 222ms/step - loss: 1.1227 - accuracy: 0.7006 - val_loss: 0.9914 - val_accuracy: 0.7384\n",
            "Epoch 2/20\n",
            "553/553 [==============================] - 125s 226ms/step - loss: 0.6876 - accuracy: 0.7921 - val_loss: 0.9465 - val_accuracy: 0.7594\n",
            "Epoch 3/20\n",
            "553/553 [==============================] - 119s 215ms/step - loss: 0.5607 - accuracy: 0.8290 - val_loss: 0.8981 - val_accuracy: 0.7727\n",
            "Epoch 4/20\n",
            "553/553 [==============================] - 116s 210ms/step - loss: 0.4660 - accuracy: 0.8556 - val_loss: 0.7805 - val_accuracy: 0.7946\n",
            "Epoch 5/20\n",
            "553/553 [==============================] - 111s 202ms/step - loss: 0.3823 - accuracy: 0.8796 - val_loss: 0.6756 - val_accuracy: 0.8147\n",
            "Epoch 6/20\n",
            "553/553 [==============================] - 112s 203ms/step - loss: 0.3176 - accuracy: 0.9004 - val_loss: 0.6338 - val_accuracy: 0.8236\n",
            "Epoch 7/20\n",
            "553/553 [==============================] - 113s 204ms/step - loss: 0.2681 - accuracy: 0.9150 - val_loss: 0.5583 - val_accuracy: 0.8337\n",
            "Epoch 8/20\n",
            "553/553 [==============================] - 119s 215ms/step - loss: 0.2347 - accuracy: 0.9250 - val_loss: 0.5208 - val_accuracy: 0.8441\n",
            "Epoch 9/20\n",
            "553/553 [==============================] - 112s 203ms/step - loss: 0.2071 - accuracy: 0.9336 - val_loss: 0.4737 - val_accuracy: 0.8555\n",
            "Epoch 10/20\n",
            "553/553 [==============================] - 113s 204ms/step - loss: 0.1862 - accuracy: 0.9404 - val_loss: 0.4863 - val_accuracy: 0.8515\n",
            "Epoch 11/20\n",
            "553/553 [==============================] - 114s 206ms/step - loss: 0.1677 - accuracy: 0.9455 - val_loss: 0.4721 - val_accuracy: 0.8624\n",
            "Epoch 12/20\n",
            "553/553 [==============================] - 118s 214ms/step - loss: 0.1540 - accuracy: 0.9499 - val_loss: 0.4356 - val_accuracy: 0.8697\n",
            "Epoch 13/20\n",
            "553/553 [==============================] - 114s 207ms/step - loss: 0.1435 - accuracy: 0.9527 - val_loss: 0.4524 - val_accuracy: 0.8665\n",
            "Epoch 14/20\n",
            "553/553 [==============================] - 121s 219ms/step - loss: 0.1352 - accuracy: 0.9550 - val_loss: 0.4566 - val_accuracy: 0.8678\n",
            "Epoch 15/20\n",
            "553/553 [==============================] - 123s 223ms/step - loss: 0.1257 - accuracy: 0.9572 - val_loss: 0.4713 - val_accuracy: 0.8665\n",
            "Epoch 16/20\n",
            "553/553 [==============================] - 123s 222ms/step - loss: 0.1183 - accuracy: 0.9597 - val_loss: 0.4214 - val_accuracy: 0.8748\n",
            "Epoch 17/20\n",
            "553/553 [==============================] - 125s 226ms/step - loss: 0.1123 - accuracy: 0.9610 - val_loss: 0.4567 - val_accuracy: 0.8686\n",
            "Epoch 18/20\n",
            "553/553 [==============================] - 123s 223ms/step - loss: 0.1068 - accuracy: 0.9623 - val_loss: 0.4322 - val_accuracy: 0.8756\n",
            "Epoch 19/20\n",
            "553/553 [==============================] - 116s 209ms/step - loss: 0.1017 - accuracy: 0.9637 - val_loss: 0.4423 - val_accuracy: 0.8749\n",
            "Epoch 20/20\n",
            "553/553 [==============================] - 113s 203ms/step - loss: 0.0977 - accuracy: 0.9647 - val_loss: 0.4285 - val_accuracy: 0.8779\n"
          ],
          "name": "stdout"
        },
        {
          "output_type": "stream",
          "text": [
            "WARNING:absl:Found untraced functions such as lstm_cell_6_layer_call_and_return_conditional_losses, lstm_cell_6_layer_call_fn, lstm_cell_7_layer_call_and_return_conditional_losses, lstm_cell_7_layer_call_fn, lstm_cell_6_layer_call_fn while saving (showing 5 of 10). These functions will not be directly callable after loading.\n",
            "WARNING:absl:Found untraced functions such as lstm_cell_6_layer_call_and_return_conditional_losses, lstm_cell_6_layer_call_fn, lstm_cell_7_layer_call_and_return_conditional_losses, lstm_cell_7_layer_call_fn, lstm_cell_6_layer_call_fn while saving (showing 5 of 10). These functions will not be directly callable after loading.\n"
          ],
          "name": "stderr"
        },
        {
          "output_type": "stream",
          "text": [
            "INFO:tensorflow:Assets written to: s2s1/assets\n"
          ],
          "name": "stdout"
        },
        {
          "output_type": "stream",
          "text": [
            "INFO:tensorflow:Assets written to: s2s1/assets\n"
          ],
          "name": "stderr"
        }
      ]
    },
    {
      "cell_type": "code",
      "metadata": {
        "id": "brp037czZTQP"
      },
      "source": [
        "# Define sampling models\n",
        "# Restore the model and construct the encoder and decoder.\n",
        "model = keras.models.load_model(\"s2s1\")\n",
        "\n",
        "encoder_inputs = model.input[0]  # input_1\n",
        "encoder_outputs, state_h_enc, state_c_enc = model.layers[2].output  # lstm_1\n",
        "encoder_states = [state_h_enc, state_c_enc]\n",
        "encoder_model = keras.Model(encoder_inputs, encoder_states)\n",
        "\n",
        "decoder_inputs = model.input[1]  # input_2\n",
        "decoder_state_input_h = keras.Input(shape=(latent_dim,), name=\"input_3\")\n",
        "decoder_state_input_c = keras.Input(shape=(latent_dim,), name=\"input_4\")\n",
        "decoder_states_inputs = [decoder_state_input_h, decoder_state_input_c]\n",
        "decoder_lstm = model.layers[3]\n",
        "decoder_outputs, state_h_dec, state_c_dec = decoder_lstm(\n",
        "    decoder_inputs, initial_state=decoder_states_inputs\n",
        ")\n",
        "decoder_states = [state_h_dec, state_c_dec]\n",
        "decoder_dense = model.layers[4]\n",
        "decoder_outputs = decoder_dense(decoder_outputs)\n",
        "decoder_model = keras.Model(\n",
        "    [decoder_inputs] + decoder_states_inputs, [decoder_outputs] + decoder_states\n",
        ")\n",
        "\n",
        "# Reverse-lookup token index to decode sequences back to\n",
        "# something readable.\n",
        "reverse_input_char_index = dict((i, char) for char, i in input_token_index.items())\n",
        "reverse_target_char_index = dict((i, char) for char, i in target_token_index.items())\n",
        "\n",
        "\n",
        "def decode_sequence(input_seq):\n",
        "    # Encode the input as state vectors.\n",
        "    states_value = encoder_model.predict(input_seq)\n",
        "\n",
        "    # Generate empty target sequence of length 1.\n",
        "    target_seq = np.zeros((1, 1, num_decoder_tokens+1))\n",
        "    # Populate the first character of target sequence with the start character.\n",
        "    target_seq[0, 0, target_token_index[\"\\t\"]] = 1.0\n",
        "\n",
        "    # Sampling loop for a batch of sequences\n",
        "    # (to simplify, here we assume a batch of size 1).\n",
        "    stop_condition = False\n",
        "    decoded_sentence = \"\"\n",
        "    while not stop_condition:\n",
        "        output_tokens, h, c = decoder_model.predict([target_seq] + states_value)\n",
        "\n",
        "        # Sample a token\n",
        "        sampled_token_index = np.argmax(output_tokens[0, -1, :])\n",
        "        sampled_char = reverse_target_char_index[sampled_token_index]\n",
        "        decoded_sentence += sampled_char\n",
        "\n",
        "        # Exit condition: either hit max length\n",
        "        # or find stop character.\n",
        "        if sampled_char == \"\\n\" or len(decoded_sentence) > max_decoder_seq_length:\n",
        "            stop_condition = True\n",
        "\n",
        "        # Update the target sequence (of length 1).\n",
        "        target_seq = np.zeros((1, 1, num_decoder_tokens+1))\n",
        "        target_seq[0, 0, sampled_token_index] = 1.0\n",
        "\n",
        "        # Update states\n",
        "        states_value = [h, c]\n",
        "    return decoded_sentence\n"
      ],
      "execution_count": 26,
      "outputs": []
    },
    {
      "cell_type": "code",
      "metadata": {
        "colab": {
          "base_uri": "https://localhost:8080/"
        },
        "id": "DQBFGi9QcEZk",
        "outputId": "7a8b5580-cbfa-48c1-beb8-269abff899a3"
      },
      "source": [
        "for seq_index in range(30):\n",
        "    # Take one sequence (part of the training set)\n",
        "    # for trying out decoding.\n",
        "    input_seq = encoder_input_data[seq_index : seq_index + 1]\n",
        "    decoded_sentence = decode_sequence(input_seq)\n",
        "    print(\"-\")\n",
        "    print(\"Input sentence:\", input_texts[seq_index])\n",
        "    print(\"Decoded sentence:\", decoded_sentence)\n"
      ],
      "execution_count": 27,
      "outputs": [
        {
          "output_type": "stream",
          "text": [
            "-\n",
            "Input sentence: अं\n",
            "Decoded sentence: an\n",
            "\n",
            "-\n",
            "Input sentence: अंकगणित\n",
            "Decoded sentence: angakanit\n",
            "\n",
            "-\n",
            "Input sentence: अंकल\n",
            "Decoded sentence: ankal\n",
            "\n",
            "-\n",
            "Input sentence: अंकुर\n",
            "Decoded sentence: ankur\n",
            "\n",
            "-\n",
            "Input sentence: अंकुरण\n",
            "Decoded sentence: ankuran\n",
            "\n",
            "-\n",
            "Input sentence: अंकुरित\n",
            "Decoded sentence: ankurit\n",
            "\n",
            "-\n",
            "Input sentence: अंकुश\n",
            "Decoded sentence: ankush\n",
            "\n",
            "-\n",
            "Input sentence: अंकुश\n",
            "Decoded sentence: ankush\n",
            "\n",
            "-\n",
            "Input sentence: अंग\n",
            "Decoded sentence: angh\n",
            "\n",
            "-\n",
            "Input sentence: अंग\n",
            "Decoded sentence: angh\n",
            "\n",
            "-\n",
            "Input sentence: अंगद\n",
            "Decoded sentence: angadh\n",
            "\n",
            "-\n",
            "Input sentence: अंगद\n",
            "Decoded sentence: angadh\n",
            "\n",
            "-\n",
            "Input sentence: अंगने\n",
            "Decoded sentence: angane\n",
            "\n",
            "-\n",
            "Input sentence: अंगभंग\n",
            "Decoded sentence: angbhang\n",
            "\n",
            "-\n",
            "Input sentence: अंगरक्षक\n",
            "Decoded sentence: angrakshak\n",
            "\n",
            "-\n",
            "Input sentence: अंगरक्षक\n",
            "Decoded sentence: angrakshak\n",
            "\n",
            "-\n",
            "Input sentence: अंगारा\n",
            "Decoded sentence: angara\n",
            "\n",
            "-\n",
            "Input sentence: अंगारे\n",
            "Decoded sentence: angare\n",
            "\n",
            "-\n",
            "Input sentence: अंगारे\n",
            "Decoded sentence: angare\n",
            "\n",
            "-\n",
            "Input sentence: अंगी\n",
            "Decoded sentence: angi\n",
            "\n",
            "-\n",
            "Input sentence: अंगीकार\n",
            "Decoded sentence: angikar\n",
            "\n",
            "-\n",
            "Input sentence: अंगुठे\n",
            "Decoded sentence: anguthe\n",
            "\n",
            "-\n",
            "Input sentence: अंगुल\n",
            "Decoded sentence: angul\n",
            "\n",
            "-\n",
            "Input sentence: अंगुलियों\n",
            "Decoded sentence: anguliyon\n",
            "\n",
            "-\n",
            "Input sentence: अंगुली\n",
            "Decoded sentence: anguli\n",
            "\n",
            "-\n",
            "Input sentence: अंगुली\n",
            "Decoded sentence: anguli\n",
            "\n",
            "-\n",
            "Input sentence: अंगूठा\n",
            "Decoded sentence: angutha\n",
            "\n",
            "-\n",
            "Input sentence: अंगूठियों\n",
            "Decoded sentence: anguthiyon\n",
            "\n",
            "-\n",
            "Input sentence: अंगूठियों\n",
            "Decoded sentence: anguthiyon\n",
            "\n",
            "-\n",
            "Input sentence: अंगूठी\n",
            "Decoded sentence: anguthi\n",
            "\n"
          ],
          "name": "stdout"
        }
      ]
    },
    {
      "cell_type": "code",
      "metadata": {
        "id": "JW2PMr18cJaM"
      },
      "source": [
        ""
      ],
      "execution_count": null,
      "outputs": []
    }
  ]
}